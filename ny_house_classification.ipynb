{
  "nbformat": 4,
  "nbformat_minor": 0,
  "metadata": {
    "colab": {
      "provenance": []
    },
    "kernelspec": {
      "name": "python3",
      "display_name": "Python 3"
    },
    "language_info": {
      "name": "python"
    }
  },
  "cells": [
    {
      "cell_type": "code",
      "execution_count": null,
      "metadata": {
        "id": "3RVSykyUT4zE"
      },
      "outputs": [],
      "source": []
    },
    {
      "cell_type": "markdown",
      "source": [
        "Jafar Yahia\n",
        "Hands-on-Assignment II\n",
        "\n",
        "Classification Model\n",
        "\n"
      ],
      "metadata": {
        "id": "0fpv9R37T5aU"
      }
    },
    {
      "cell_type": "markdown",
      "source": [
        "Imports"
      ],
      "metadata": {
        "id": "TgL7jXikT_i1"
      }
    },
    {
      "cell_type": "code",
      "source": [
        "import pandas as pd\n",
        "import numpy as np\n",
        "import matplotlib.pyplot as plt\n",
        "import seaborn as sns\n",
        "\n",
        "from sklearn.preprocessing import StandardScaler, OneHotEncoder, LabelEncoder\n",
        "from sklearn.model_selection import train_test_split, cross_val_score, GridSearchCV\n",
        "from sklearn.metrics import mean_squared_error, accuracy_score, classification_report, confusion_matrix\n",
        "from sklearn.decomposition import PCA\n",
        "\n",
        "# Classification Models\n",
        "from sklearn.linear_model import LogisticRegression\n",
        "from sklearn.tree import DecisionTreeClassifier\n",
        "from sklearn.ensemble import RandomForestClassifier, GradientBoostingClassifier\n",
        "from sklearn.neighbors import KNeighborsClassifier\n"
      ],
      "metadata": {
        "id": "nH2bYd9JUAhg"
      },
      "execution_count": null,
      "outputs": []
    },
    {
      "cell_type": "markdown",
      "source": [
        "dataset"
      ],
      "metadata": {
        "id": "VETNWe67Uagu"
      }
    },
    {
      "cell_type": "code",
      "source": [
        "data = pd.read_csv(\"/content/NY-House-Dataset.csv\")"
      ],
      "metadata": {
        "id": "QUdErvqUUcHk"
      },
      "execution_count": null,
      "outputs": []
    },
    {
      "cell_type": "markdown",
      "source": [
        "Targets for classification"
      ],
      "metadata": {
        "id": "552iE9KbUNDD"
      }
    },
    {
      "cell_type": "code",
      "source": [
        "price_median = data['PRICE'].median()\n",
        "data['PRICE_Category'] = np.where(data['PRICE'] >= price_median, 1, 0)\n",
        "\n",
        "X_classification = data.drop(columns=['PRICE', 'PRICE_Category'])\n",
        "y_classification = data['PRICE_Category']\n"
      ],
      "metadata": {
        "id": "-vpR_ZLMURva"
      },
      "execution_count": null,
      "outputs": []
    },
    {
      "cell_type": "markdown",
      "source": [
        "- use the median house price to split data in high and low categories"
      ],
      "metadata": {
        "id": "QtiO_dF2VFmp"
      }
    },
    {
      "cell_type": "markdown",
      "source": [
        "Split and scale data for the classification"
      ],
      "metadata": {
        "id": "14jw-6NXVM0T"
      }
    },
    {
      "cell_type": "code",
      "source": [
        "from sklearn.preprocessing import StandardScaler, OneHotEncoder\n",
        "from sklearn.compose import ColumnTransformer\n",
        "from sklearn.pipeline import Pipeline\n",
        "\n",
        "preprocessor = ColumnTransformer(\n",
        "    transformers=[\n",
        "        ('num', StandardScaler(), X_classification.select_dtypes(include=['float64', 'int64']).columns),\n",
        "        ('cat', OneHotEncoder(), X_classification.select_dtypes(include=['object']).columns)\n",
        "    ])\n",
        "X_classification_transformed = preprocessor.fit_transform(X_classification)\n",
        "\n",
        "X_train_class, X_test_class, y_train_class, y_test_class = train_test_split(\n",
        "    X_classification_transformed, y_classification, test_size=0.3, random_state=42)\n",
        "\n"
      ],
      "metadata": {
        "id": "cWU-CNHtVTHw"
      },
      "execution_count": null,
      "outputs": []
    },
    {
      "cell_type": "markdown",
      "source": [
        "1. Logistic Regression\n"
      ],
      "metadata": {
        "id": "fnoQNr5JV1zV"
      }
    },
    {
      "cell_type": "code",
      "source": [
        "logistic_reg = LogisticRegression(random_state=42)\n",
        "logistic_reg.fit(X_train_class, y_train_class)\n",
        "y_pred_class_log = logistic_reg.predict(X_test_class)\n",
        "\n",
        "print(\"Logistic Regression Accuracy:\", accuracy_score(y_test_class, y_pred_class_log))\n",
        "print(\"Classification Report:\\n\", classification_report(y_test_class, y_pred_class_log))\n"
      ],
      "metadata": {
        "colab": {
          "base_uri": "https://localhost:8080/"
        },
        "id": "m3QT9uyxV69W",
        "outputId": "458ef2ef-1f94-42c1-b8d6-87b8bd4d8e9f"
      },
      "execution_count": null,
      "outputs": [
        {
          "output_type": "stream",
          "name": "stdout",
          "text": [
            "Logistic Regression Accuracy: 0.8750867453157529\n",
            "Classification Report:\n",
            "               precision    recall  f1-score   support\n",
            "\n",
            "           0       0.87      0.88      0.88       717\n",
            "           1       0.88      0.87      0.88       724\n",
            "\n",
            "    accuracy                           0.88      1441\n",
            "   macro avg       0.88      0.88      0.88      1441\n",
            "weighted avg       0.88      0.88      0.88      1441\n",
            "\n"
          ]
        }
      ]
    },
    {
      "cell_type": "markdown",
      "source": [
        "2. Decision tree classifier"
      ],
      "metadata": {
        "id": "dIpNynNDV9Yy"
      }
    },
    {
      "cell_type": "code",
      "source": [
        "decision_tree = DecisionTreeClassifier(random_state=42)\n",
        "decision_tree.fit(X_train_class, y_train_class)\n",
        "y_pred_class_tree = decision_tree.predict(X_test_class)\n",
        "\n",
        "print(\"Decision Tree Accuracy:\", accuracy_score(y_test_class, y_pred_class_tree))\n",
        "print(\"Classification Report:\\n\", classification_report(y_test_class, y_pred_class_tree))\n"
      ],
      "metadata": {
        "colab": {
          "base_uri": "https://localhost:8080/"
        },
        "id": "mf24QiXuWDcX",
        "outputId": "56b99a8a-6d13-4ba9-d6ef-662ff55d3d68"
      },
      "execution_count": null,
      "outputs": [
        {
          "output_type": "stream",
          "name": "stdout",
          "text": [
            "Decision Tree Accuracy: 0.8653712699514227\n",
            "Classification Report:\n",
            "               precision    recall  f1-score   support\n",
            "\n",
            "           0       0.86      0.87      0.86       717\n",
            "           1       0.87      0.86      0.87       724\n",
            "\n",
            "    accuracy                           0.87      1441\n",
            "   macro avg       0.87      0.87      0.87      1441\n",
            "weighted avg       0.87      0.87      0.87      1441\n",
            "\n"
          ]
        }
      ]
    },
    {
      "cell_type": "markdown",
      "source": [
        "3. Random Forest classifier"
      ],
      "metadata": {
        "id": "z4U5jLTCWHH7"
      }
    },
    {
      "cell_type": "code",
      "source": [
        "rf_classifier = RandomForestClassifier(random_state=42)\n",
        "rf_classifier.fit(X_train_class, y_train_class)\n",
        "y_pred_class_rf = rf_classifier.predict(X_test_class)\n",
        "\n",
        "print(\"Random Forest Accuracy:\", accuracy_score(y_test_class, y_pred_class_rf))\n",
        "print(\"Classification Report:\\n\", classification_report(y_test_class, y_pred_class_rf))\n"
      ],
      "metadata": {
        "colab": {
          "base_uri": "https://localhost:8080/"
        },
        "id": "BNyhlsWEWKAo",
        "outputId": "6bd0cd55-2ff7-4f3c-80b8-74b3188e0eb9"
      },
      "execution_count": null,
      "outputs": [
        {
          "output_type": "stream",
          "name": "stdout",
          "text": [
            "Random Forest Accuracy: 0.8778625954198473\n",
            "Classification Report:\n",
            "               precision    recall  f1-score   support\n",
            "\n",
            "           0       0.88      0.87      0.88       717\n",
            "           1       0.87      0.89      0.88       724\n",
            "\n",
            "    accuracy                           0.88      1441\n",
            "   macro avg       0.88      0.88      0.88      1441\n",
            "weighted avg       0.88      0.88      0.88      1441\n",
            "\n"
          ]
        }
      ]
    },
    {
      "cell_type": "markdown",
      "source": [
        "- adds better classification accuracy"
      ],
      "metadata": {
        "id": "8QS76dQ7WMSB"
      }
    },
    {
      "cell_type": "markdown",
      "source": [
        "4. Gradient Boosting Classifier"
      ],
      "metadata": {
        "id": "L9WvQ6FEWPnw"
      }
    },
    {
      "cell_type": "code",
      "source": [
        "gboost_classifier = GradientBoostingClassifier(random_state=42)\n",
        "gboost_classifier.fit(X_train_class, y_train_class)\n",
        "y_pred_class_gboost = gboost_classifier.predict(X_test_class)\n",
        "\n",
        "print(\"Gradient Boosting Accuracy:\", accuracy_score(y_test_class, y_pred_class_gboost))\n",
        "print(\"Classification Report:\\n\", classification_report(y_test_class, y_pred_class_gboost))\n"
      ],
      "metadata": {
        "colab": {
          "base_uri": "https://localhost:8080/"
        },
        "id": "tHubYYZJWTz8",
        "outputId": "3a837a78-676e-49d3-855f-8e2ef646edef"
      },
      "execution_count": null,
      "outputs": [
        {
          "output_type": "stream",
          "name": "stdout",
          "text": [
            "Gradient Boosting Accuracy: 0.8750867453157529\n",
            "Classification Report:\n",
            "               precision    recall  f1-score   support\n",
            "\n",
            "           0       0.87      0.88      0.88       717\n",
            "           1       0.88      0.87      0.87       724\n",
            "\n",
            "    accuracy                           0.88      1441\n",
            "   macro avg       0.88      0.88      0.88      1441\n",
            "weighted avg       0.88      0.88      0.88      1441\n",
            "\n"
          ]
        }
      ]
    },
    {
      "cell_type": "markdown",
      "source": [
        "- boosts trees for tasks"
      ],
      "metadata": {
        "id": "tg0SrSJJWU7g"
      }
    },
    {
      "cell_type": "markdown",
      "source": [
        "5. K-nearest neighbor classifier"
      ],
      "metadata": {
        "id": "58nugieVWXnO"
      }
    },
    {
      "cell_type": "code",
      "source": [
        "knn = KNeighborsClassifier(n_neighbors=5)\n",
        "knn.fit(X_train_class, y_train_class)\n",
        "y_pred_class_knn = knn.predict(X_test_class)\n",
        "\n",
        "print(\"K-Nearest Neighbors Accuracy:\", accuracy_score(y_test_class, y_pred_class_knn))\n",
        "print(\"Classification Report:\\n\", classification_report(y_test_class, y_pred_class_knn))\n"
      ],
      "metadata": {
        "colab": {
          "base_uri": "https://localhost:8080/"
        },
        "id": "FeHiNtpxWb2s",
        "outputId": "29e40992-dc7e-4c9c-c372-1b607e16a048"
      },
      "execution_count": null,
      "outputs": [
        {
          "output_type": "stream",
          "name": "stdout",
          "text": [
            "K-Nearest Neighbors Accuracy: 0.8390006939625261\n",
            "Classification Report:\n",
            "               precision    recall  f1-score   support\n",
            "\n",
            "           0       0.83      0.84      0.84       717\n",
            "           1       0.84      0.83      0.84       724\n",
            "\n",
            "    accuracy                           0.84      1441\n",
            "   macro avg       0.84      0.84      0.84      1441\n",
            "weighted avg       0.84      0.84      0.84      1441\n",
            "\n"
          ]
        }
      ]
    },
    {
      "cell_type": "markdown",
      "source": [
        "- neigbors set to 5 initially\n",
        "- KNN model used for the classification"
      ],
      "metadata": {
        "id": "O1Nt481NWdM7"
      }
    },
    {
      "cell_type": "markdown",
      "source": [
        "Classification Model Conclusion"
      ],
      "metadata": {
        "id": "Ie1F8StUWntU"
      }
    },
    {
      "cell_type": "code",
      "source": [
        "print(\"CONCLUSION:\")\n",
        "print(\"Logistic Regression Accuracy:\", accuracy_score(y_test_class, y_pred_class_log))\n",
        "print(\"Decision Tree Classifier Accuracy:\", accuracy_score(y_test_class, y_pred_class_tree))\n",
        "print(\"Random Forest Classifier Accuracy:\", accuracy_score(y_test_class, y_pred_class_rf))\n",
        "print(\"Gradient Boosting Classifier Accuracy:\", accuracy_score(y_test_class, y_pred_class_gboost))\n",
        "print(\"K-Nearest Neighbors Accuracy:\", accuracy_score(y_test_class, y_pred_class_knn))\n",
        "print(\"Best performing model: Based on accuracy and classification report.\")\n"
      ],
      "metadata": {
        "colab": {
          "base_uri": "https://localhost:8080/"
        },
        "id": "6z6eLIVUWqwD",
        "outputId": "a4ae9fe5-9ab7-447c-b8c3-7354354a444d"
      },
      "execution_count": null,
      "outputs": [
        {
          "output_type": "stream",
          "name": "stdout",
          "text": [
            "CONCLUSION:\n",
            "Logistic Regression Accuracy: 0.8750867453157529\n",
            "Decision Tree Classifier Accuracy: 0.8653712699514227\n",
            "Random Forest Classifier Accuracy: 0.8778625954198473\n",
            "Gradient Boosting Classifier Accuracy: 0.8750867453157529\n",
            "K-Nearest Neighbors Accuracy: 0.8390006939625261\n",
            "Best performing model: Based on accuracy and classification report.\n"
          ]
        }
      ]
    }
  ]
}