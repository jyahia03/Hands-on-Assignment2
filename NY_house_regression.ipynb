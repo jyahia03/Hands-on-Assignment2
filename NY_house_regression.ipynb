{
  "nbformat": 4,
  "nbformat_minor": 0,
  "metadata": {
    "colab": {
      "provenance": []
    },
    "kernelspec": {
      "name": "python3",
      "display_name": "Python 3"
    },
    "language_info": {
      "name": "python"
    }
  },
  "cells": [
    {
      "cell_type": "code",
      "execution_count": null,
      "metadata": {
        "id": "nRLhQJf88ac9"
      },
      "outputs": [],
      "source": []
    },
    {
      "cell_type": "markdown",
      "source": [
        "Hands On Assignment II\n",
        "\n",
        "Jafar Yahia\n"
      ],
      "metadata": {
        "id": "liLkuAcV8cqB"
      }
    },
    {
      "cell_type": "markdown",
      "source": [
        "Regression Model"
      ],
      "metadata": {
        "id": "9dsPcMkoHnJ-"
      }
    },
    {
      "cell_type": "markdown",
      "source": [
        "\n",
        "Imports"
      ],
      "metadata": {
        "id": "eZKJrSiYHzs1"
      }
    },
    {
      "cell_type": "code",
      "source": [
        "import pandas as pd\n",
        "import numpy as np\n",
        "import matplotlib.pyplot as plt\n",
        "import seaborn as sns\n",
        "\n",
        "from sklearn.preprocessing import StandardScaler, OneHotEncoder, LabelEncoder\n",
        "from sklearn.model_selection import train_test_split, cross_val_score, GridSearchCV\n",
        "from sklearn.metrics import mean_squared_error, accuracy_score, classification_report, confusion_matrix\n",
        "from sklearn.decomposition import PCA\n",
        "\n",
        "# Regression Models\n",
        "from sklearn.linear_model import LinearRegression, Ridge, Lasso, ElasticNet\n",
        "from sklearn.tree import DecisionTreeRegressor\n",
        "from sklearn.ensemble import RandomForestRegressor, GradientBoostingRegressor\n",
        "\n",
        "\n"
      ],
      "metadata": {
        "id": "NpEaVpruHle4"
      },
      "execution_count": 8,
      "outputs": []
    },
    {
      "cell_type": "markdown",
      "source": [
        "Load Dataset"
      ],
      "metadata": {
        "id": "APLN-KZDHy6e"
      }
    },
    {
      "cell_type": "code",
      "source": [
        "data = pd.read_csv(\"/NY-House-Dataset.csv\")\n",
        "\n"
      ],
      "metadata": {
        "id": "lomoLEeRIE1x"
      },
      "execution_count": 11,
      "outputs": []
    },
    {
      "cell_type": "code",
      "source": [
        "from google.colab import drive\n",
        "drive.mount('/content/drive')"
      ],
      "metadata": {
        "id": "C_qnMYkdLV-F"
      },
      "execution_count": null,
      "outputs": []
    },
    {
      "cell_type": "markdown",
      "source": [
        "Targets for the regression"
      ],
      "metadata": {
        "id": "ABjWjEtXIfkW"
      }
    },
    {
      "cell_type": "code",
      "source": [
        "X = data.drop(columns=['PRICE'])\n",
        "y = data['PRICE']\n"
      ],
      "metadata": {
        "id": "XyIDD1fUIiXi"
      },
      "execution_count": 13,
      "outputs": []
    },
    {
      "cell_type": "markdown",
      "source": [
        "Scaling"
      ],
      "metadata": {
        "id": "UPcFcSR0IqdE"
      }
    },
    {
      "cell_type": "code",
      "source": [
        "X_encoded = pd.get_dummies(X, drop_first=True)\n",
        "\n",
        "scaler = StandardScaler()\n",
        "X_scaled = scaler.fit_transform(X_encoded)\n"
      ],
      "metadata": {
        "id": "1N7s4bMyIr_N"
      },
      "execution_count": 23,
      "outputs": []
    },
    {
      "cell_type": "markdown",
      "source": [
        "Train-Test Split"
      ],
      "metadata": {
        "id": "_cX1E4UPL4rq"
      }
    },
    {
      "cell_type": "code",
      "source": [
        "X_train, X_test, y_train, y_test = train_test_split(X_scaled, y, test_size=0.3, random_state=42)\n"
      ],
      "metadata": {
        "id": "oXPCZudJL8QB"
      },
      "execution_count": 24,
      "outputs": []
    },
    {
      "cell_type": "markdown",
      "source": [
        "1. Linear Regression"
      ],
      "metadata": {
        "id": "8bySq3OyL-i2"
      }
    },
    {
      "cell_type": "code",
      "source": [
        "linear_reg = LinearRegression()\n",
        "linear_reg.fit(X_train, y_train)\n",
        "y_pred_reg = linear_reg.predict(X_test)\n",
        "\n",
        "linear_reg_mse = mean_squared_error(y_test, y_pred_reg)\n",
        "linear_reg_r2 = linear_reg.score(X_test, y_test)\n",
        "linear_reg_predictions = linear_reg.predict(X_test)"
      ],
      "metadata": {
        "id": "0vNBwwfrMCvS"
      },
      "execution_count": 39,
      "outputs": []
    },
    {
      "cell_type": "markdown",
      "source": [
        "2. Random Forest Regressor"
      ],
      "metadata": {
        "id": "G6-ZTNfzMEgr"
      }
    },
    {
      "cell_type": "code",
      "source": [
        "rf_reg = RandomForestRegressor(random_state=42)\n",
        "rf_reg.fit(X_train, y_train)\n",
        "y_pred_rf = rf_reg.predict(X_test)\n",
        "\n",
        "rf_reg_mse = mean_squared_error(y_test, y_pred_rf)\n",
        "rf_reg_r2 = rf_reg.score(X_test, y_test)\n"
      ],
      "metadata": {
        "id": "C8uWgjPWMJgk"
      },
      "execution_count": 41,
      "outputs": []
    },
    {
      "cell_type": "markdown",
      "source": [
        "3. Gradient Boosting Regressor"
      ],
      "metadata": {
        "id": "7WWv7cvvMLbo"
      }
    },
    {
      "cell_type": "code",
      "source": [
        "gbr = GradientBoostingRegressor(random_state=42)\n",
        "gbr.fit(X_train, y_train)\n",
        "y_pred_gbr = gbr.predict(X_test)\n",
        "\n",
        "gbr_mse = mean_squared_error(y_test, y_pred_gbr)\n",
        "gbr_r2 = gbr.score(X_test, y_test)\n"
      ],
      "metadata": {
        "id": "pvqgYQ0zMOTK"
      },
      "execution_count": 28,
      "outputs": []
    },
    {
      "cell_type": "markdown",
      "source": [
        "4. Ridge Regression"
      ],
      "metadata": {
        "id": "nk2CBroCMRYu"
      }
    },
    {
      "cell_type": "code",
      "source": [
        "ridge = Ridge(random_state=42)\n",
        "ridge.fit(X_train, y_train)\n",
        "ridge_predictions = ridge.predict(X_test)\n",
        "\n",
        "ridge_mse = mean_squared_error(y_test, ridge_predictions)\n",
        "ridge_r2 = ridge.score(X_test, y_test)\n"
      ],
      "metadata": {
        "id": "M7Fus2brMTIc"
      },
      "execution_count": 29,
      "outputs": []
    },
    {
      "cell_type": "markdown",
      "source": [
        "5. Lasso Regression"
      ],
      "metadata": {
        "id": "AeabcbP3MVAn"
      }
    },
    {
      "cell_type": "code",
      "source": [
        "lasso = Lasso(random_state=42)\n",
        "lasso.fit(X_train, y_train)\n",
        "lasso_predictions = lasso.predict(X_test)\n",
        "\n",
        "lasso_mse = mean_squared_error(y_test, lasso_predictions)\n",
        "lasso_r2 = lasso.score(X_test, y_test)\n"
      ],
      "metadata": {
        "id": "dShwpz3tMds1"
      },
      "execution_count": 30,
      "outputs": []
    },
    {
      "cell_type": "markdown",
      "source": [
        "Regression Conclusion"
      ],
      "metadata": {
        "id": "8_SxjWKfZY0S"
      }
    },
    {
      "cell_type": "code",
      "source": [
        "print(\"\\nCONCLUSION:\")\n",
        "print(\"Linear Regression -\", round(linear_reg_r2, 2))\n",
        "print(\"Random Forest Regressor -\", round(rf_reg_r2, 2))\n",
        "print(\"Gradient Boosting Regressor -\", round(gbr_r2, 2))\n",
        "print(\"Ridge Regression -\", round(ridge_r2, 2))\n",
        "print(\"Lasso Regression -\", round(lasso_r2, 2))\n",
        "\n",
        "# Determine the best model based on R² score\n",
        "r2_scores = {\n",
        "    \"Linear Regression\": linear_reg_r2,\n",
        "    \"Random Forest Regressor\": rf_reg_r2,\n",
        "    \"Gradient Boosting Regressor\": gbr_r2,\n",
        "    \"Ridge Regression\": ridge_r2,\n",
        "    \"Lasso Regression\": lasso_r2\n",
        "}\n",
        "\n",
        "best_model = max(r2_scores, key=r2_scores.get)\n",
        "print(f\"\\nIn Regression model, {best_model} is the best model with an R² score of {round(r2_scores[best_model], 2)}.\")\n"
      ],
      "metadata": {
        "colab": {
          "base_uri": "https://localhost:8080/"
        },
        "id": "Ig1yQbkiZbOg",
        "outputId": "f210a0ad-9885-4ce5-a4b3-e90e36efaf31"
      },
      "execution_count": 42,
      "outputs": [
        {
          "output_type": "stream",
          "name": "stdout",
          "text": [
            "\n",
            "CONCLUSION:\n",
            "Linear Regression - -1.87\n",
            "Random Forest Regressor - 0.59\n",
            "Gradient Boosting Regressor - 0.51\n",
            "Ridge Regression - 0.26\n",
            "Lasso Regression - -0.98\n",
            "\n",
            "In Regression model, Random Forest Regressor is the best model with an R² score of 0.59.\n"
          ]
        }
      ]
    }
  ]
}